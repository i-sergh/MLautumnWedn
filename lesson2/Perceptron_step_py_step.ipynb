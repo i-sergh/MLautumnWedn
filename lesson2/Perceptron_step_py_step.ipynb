{
 "cells": [
  {
   "cell_type": "markdown",
   "id": "94872547",
   "metadata": {},
   "source": [
    "# Пример на апельсина и яблоках\n",
    "\n",
    "пусть будет 3 шкалы меры отличий  апельсинов от яблок\n",
    "\n",
    "1 - шкала оранжево-красности\n",
    "2 - кислосладкости\n",
    "3 - круглости\n",
    "\n",
    "Шкалы шаобым, в реальности не существуют\n"
   ]
  },
  {
   "cell_type": "code",
   "execution_count": 9,
   "id": "33db9914",
   "metadata": {},
   "outputs": [],
   "source": [
    "\n",
    "# Возьмем наш образец\n",
    "# и он всего один\n",
    "# на практике их много\n",
    "X = [0.1, 0.8, 0.5 ]\n"
   ]
  },
  {
   "cell_type": "markdown",
   "id": "98645017",
   "metadata": {},
   "source": [
    "\n",
    "<p>шкала оранжево-красности у него на 0.1</p>\n",
    "<p>кислосладкости на 0.8</p>\n",
    "<p>круглости на 0.5</p>\n",
    "<p>Мы узнали, что это именно яблоко</p>"
   ]
  },
  {
   "cell_type": "code",
   "execution_count": 10,
   "id": "b3580a4f",
   "metadata": {},
   "outputs": [],
   "source": [
    "y = 1 # один это яблоко"
   ]
  },
  {
   "cell_type": "markdown",
   "id": "ae91dc6f",
   "metadata": {},
   "source": [
    "### создаем наши веса\n",
    "\n",
    "Веса задаются случайно\n",
    "\n",
    "Но для примера мы зададим их в ручную"
   ]
  },
  {
   "cell_type": "code",
   "execution_count": 11,
   "id": "0c06b9ce",
   "metadata": {},
   "outputs": [],
   "source": [
    "w = [0.13, 0.5, 0.05]"
   ]
  },
  {
   "cell_type": "markdown",
   "id": "e6a42169",
   "metadata": {},
   "source": [
    "### Подготовим несколько функций "
   ]
  },
  {
   "cell_type": "code",
   "execution_count": 12,
   "id": "88ea8674",
   "metadata": {},
   "outputs": [],
   "source": [
    "# Общий суматор\n",
    "def net_input(X, w):\n",
    "    summ = 0\n",
    "    for i in range( len(X) ):\n",
    "        summ += X[i]*w[i] \n",
    "    return summ"
   ]
  },
  {
   "cell_type": "code",
   "execution_count": 13,
   "id": "ccd690b5",
   "metadata": {},
   "outputs": [
    {
     "data": {
      "text/plain": [
       "0.43800000000000006"
      ]
     },
     "execution_count": 13,
     "metadata": {},
     "output_type": "execute_result"
    }
   ],
   "source": [
    "net_input(X,w)"
   ]
  },
  {
   "cell_type": "markdown",
   "id": "d0b9d9a4",
   "metadata": {},
   "source": [
    "### Подготовим пороговую функцию "
   ]
  },
  {
   "cell_type": "code",
   "execution_count": 14,
   "id": "c1212806",
   "metadata": {},
   "outputs": [],
   "source": [
    "def predict(X, w):\n",
    "    if net_input(X,w) >= 0:\n",
    "        return 1\n",
    "    else:\n",
    "        return -1"
   ]
  },
  {
   "cell_type": "code",
   "execution_count": 15,
   "id": "2e984bb5",
   "metadata": {},
   "outputs": [
    {
     "data": {
      "text/plain": [
       "1"
      ]
     },
     "execution_count": 15,
     "metadata": {},
     "output_type": "execute_result"
    }
   ],
   "source": [
    "predict(X, w)"
   ]
  },
  {
   "cell_type": "markdown",
   "id": "6e53ea91",
   "metadata": {},
   "source": [
    "### Ого! М ы нашли яблоко!\n",
    "\n",
    "Но, что если значения предсказания и ожидания (prefict и y ) не совпадают"
   ]
  },
  {
   "cell_type": "code",
   "execution_count": 16,
   "id": "8d1e18ba",
   "metadata": {},
   "outputs": [],
   "source": [
    "X1 = [0.9, 0.1, 0.5 ]\n",
    "y1 = -1 # апельсин"
   ]
  },
  {
   "cell_type": "markdown",
   "id": "bc3007c2",
   "metadata": {},
   "source": [
    "#### для него не нужны отдельные веса!\n",
    "Они уже есть в нашем персептроне"
   ]
  },
  {
   "cell_type": "code",
   "execution_count": 17,
   "id": "454371b5",
   "metadata": {},
   "outputs": [
    {
     "data": {
      "text/plain": [
       "0.192"
      ]
     },
     "execution_count": 17,
     "metadata": {},
     "output_type": "execute_result"
    }
   ],
   "source": [
    "net_input(X1, w)"
   ]
  },
  {
   "cell_type": "code",
   "execution_count": 18,
   "id": "4671cf28",
   "metadata": {},
   "outputs": [
    {
     "data": {
      "text/plain": [
       "1"
      ]
     },
     "execution_count": 18,
     "metadata": {},
     "output_type": "execute_result"
    }
   ],
   "source": [
    "predict(X1, w)"
   ]
  },
  {
   "cell_type": "markdown",
   "id": "f28264b5",
   "metadata": {},
   "source": [
    "### Ой\n",
    "значения предсказания и ожидания (prefict и y ) не совпадают\n",
    "\n",
    "<hr>\n",
    "И тут начинается процесс обучения"
   ]
  },
  {
   "cell_type": "code",
   "execution_count": 22,
   "id": "340bbc5d",
   "metadata": {},
   "outputs": [
    {
     "data": {
      "text/plain": [
       "True"
      ]
     },
     "execution_count": 22,
     "metadata": {},
     "output_type": "execute_result"
    }
   ],
   "source": [
    "# проверяет равенство ожидания и предсказания \n",
    "y1 == predict(X1, w )"
   ]
  },
  {
   "cell_type": "code",
   "execution_count": 20,
   "id": "e6a3cba2",
   "metadata": {},
   "outputs": [
    {
     "data": {
      "text/plain": [
       "-0.2"
      ]
     },
     "execution_count": 20,
     "metadata": {},
     "output_type": "execute_result"
    }
   ],
   "source": [
    "eta = 0.1  # это скорость обучения\n",
    "\n",
    "# это на сколько мы должы изменить вес\n",
    "dw = eta * ( y1 - predict( X1, w ) )\n",
    "dw"
   ]
  },
  {
   "cell_type": "code",
   "execution_count": 21,
   "id": "a1d32768",
   "metadata": {},
   "outputs": [
    {
     "data": {
      "text/plain": [
       "[-0.05000000000000002, 0.48, -0.05]"
      ]
     },
     "execution_count": 21,
     "metadata": {},
     "output_type": "execute_result"
    }
   ],
   "source": [
    "for i in range( len(X1) ):\n",
    "    w[i] += dw * X1[i]\n",
    "w"
   ]
  },
  {
   "cell_type": "markdown",
   "id": "f6d996cf",
   "metadata": {},
   "source": [
    "## А теперь пробуем на большем числе данных"
   ]
  },
  {
   "cell_type": "code",
   "execution_count": 36,
   "id": "ecbf7d98",
   "metadata": {},
   "outputs": [],
   "source": [
    "from matplotlib import pyplot as plt \n",
    "from math import sin"
   ]
  },
  {
   "cell_type": "code",
   "execution_count": 46,
   "id": "3db3db04",
   "metadata": {},
   "outputs": [
    {
     "data": {
      "text/plain": [
       "<matplotlib.collections.PathCollection at 0x17273bdc610>"
      ]
     },
     "execution_count": 46,
     "metadata": {},
     "output_type": "execute_result"
    },
    {
     "data": {
      "image/png": "[encoded data removed]",
      "text/plain": [
       "<Figure size 432x288 with 1 Axes>"
      ]
     },
     "metadata": {
      "needs_background": "light"
     },
     "output_type": "display_data"
    }
   ],
   "source": [
    "x = [1, 5, 10, -12, 4]\n",
    "y = [2, 6, 15, -1, 10]\n",
    "\n",
    "x1 = [i for i in range(-10, 10, 1)]\n",
    "y1 = [sin(i) for i in range(-10,10, 1)]\n",
    "\n",
    "x2 = [1, 2, 4, 5, 6, 7, 7]\n",
    "y2 = [10, 22, 3, 5, 6, 8, -1]\n",
    "\n",
    "\n",
    "plt.plot(x, y, marker='o', color='blue' )\n",
    "\n",
    "plt.plot(x1, y1, marker='x', color='green' )\n",
    "\n",
    "plt.scatter(x2, y2, marker='*', color='red')"
   ]
  },
  {
   "cell_type": "code",
   "execution_count": 51,
   "id": "dd2b1b02",
   "metadata": {},
   "outputs": [
    {
     "data": {
      "text/plain": [
       "<matplotlib.collections.PathCollection at 0x172754b45b0>"
      ]
     },
     "execution_count": 51,
     "metadata": {},
     "output_type": "execute_result"
    },
    {
     "data": {
      "image/png": "[encoded data removed]",
      "text/plain": [
       "<Figure size 432x288 with 1 Axes>"
      ]
     },
     "metadata": {
      "needs_background": "light"
     },
     "output_type": "display_data"
    }
   ],
   "source": [
    "xc1 = [1, 3, 4, 2, 2, 4, 2, 3 ]\n",
    "yc1 = [1, 2, 1, 5, 2, 4, 3, 3 ]\n",
    "c1 = [ 1] * len(xc1) \n",
    "xc2 = [5, 6, 7, 7, 8, 9, ]\n",
    "yc2 = [5, 7, 5, 8, 9, 6, ]\n",
    "c2 = [-1] * len(xc2)\n",
    "plt.scatter(xc1, yc1, marker='+', color='blue')\n",
    "plt.scatter(xc2, yc2, marker='*', color='red')"
   ]
  },
  {
   "cell_type": "code",
   "execution_count": 68,
   "id": "24a9e192",
   "metadata": {},
   "outputs": [
    {
     "data": {
      "text/plain": [
       "[13, 4, 0, 11, 10, 12, 8, 9, 1, 5, 7, 3, 6, 2]"
      ]
     },
     "execution_count": 68,
     "metadata": {},
     "output_type": "execute_result"
    }
   ],
   "source": [
    "import random\n",
    "xc = xc1 + xc2\n",
    "yc = yc1 + yc2\n",
    "c = c1 + c2\n",
    "sequence = [i for i in range(0,14)]\n",
    "random.shuffle(sequence)\n",
    "sequence"
   ]
  },
  {
   "cell_type": "code",
   "execution_count": 67,
   "id": "35f2d7ff",
   "metadata": {},
   "outputs": [
    {
     "ename": "TypeError",
     "evalue": "unsupported operand type(s) for -: 'list' and 'int'",
     "output_type": "error",
     "traceback": [
      "\u001b[1;31m---------------------------------------------------------------------------\u001b[0m",
      "\u001b[1;31mTypeError\u001b[0m                                 Traceback (most recent call last)",
      "Input \u001b[1;32mIn [67]\u001b[0m, in \u001b[0;36m<cell line: 1>\u001b[1;34m()\u001b[0m\n\u001b[0;32m      2\u001b[0m eta \u001b[38;5;241m=\u001b[39m \u001b[38;5;241m0.1\u001b[39m  \u001b[38;5;66;03m# это скорость обучения\u001b[39;00m\n\u001b[0;32m      4\u001b[0m \u001b[38;5;66;03m# это на сколько мы должы изменить вес\u001b[39;00m\n\u001b[1;32m----> 5\u001b[0m dw \u001b[38;5;241m=\u001b[39m eta \u001b[38;5;241m*\u001b[39m ( \u001b[43my1\u001b[49m\u001b[43m \u001b[49m\u001b[38;5;241;43m-\u001b[39;49m\u001b[43m \u001b[49m\u001b[43mpredict\u001b[49m\u001b[43m(\u001b[49m\u001b[43m \u001b[49m\u001b[43mX1\u001b[49m\u001b[43m,\u001b[49m\u001b[43m \u001b[49m\u001b[43mw\u001b[49m\u001b[43m \u001b[49m\u001b[43m)\u001b[49m )\n\u001b[0;32m      6\u001b[0m \u001b[38;5;28;01mfor\u001b[39;00m i \u001b[38;5;129;01min\u001b[39;00m \u001b[38;5;28mrange\u001b[39m( \u001b[38;5;28mlen\u001b[39m(X1) ):\n\u001b[0;32m      7\u001b[0m     w[i] \u001b[38;5;241m+\u001b[39m\u001b[38;5;241m=\u001b[39m dw \u001b[38;5;241m*\u001b[39m X1[i]\n",
      "\u001b[1;31mTypeError\u001b[0m: unsupported operand type(s) for -: 'list' and 'int'"
     ]
    }
   ],
   "source": [
    "for seq in sequence:\n",
    "    eta = 0.1  # это скорость обучения\n",
    "\n",
    "    # это на сколько мы должы изменить вес\n",
    "    dw = eta * ( yc[seq] - predict( xcp[], w ) )\n",
    "    for i in range( len(X1) ):\n",
    "        w[i] += dw * X1[i]"
   ]
  },
  {
   "cell_type": "code",
   "execution_count": null,
   "id": "08ab4eac",
   "metadata": {},
   "outputs": [],
   "source": []
  }
 ],
 "metadata": {
  "kernelspec": {
   "display_name": "Python 3 (ipykernel)",
   "language": "python",
   "name": "python3"
  },
  "language_info": {
   "codemirror_mode": {
    "name": "ipython",
    "version": 3
   },
   "file_extension": ".py",
   "mimetype": "text/x-python",
   "name": "python",
   "nbconvert_exporter": "python",
   "pygments_lexer": "ipython3",
   "version": "3.10.2"
  }
 },
 "nbformat": 4,
 "nbformat_minor": 5
}
