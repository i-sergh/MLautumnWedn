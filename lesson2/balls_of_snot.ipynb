{
 "cells": [
  {
   "cell_type": "code",
   "execution_count": 31,
   "id": "7e622db3",
   "metadata": {},
   "outputs": [],
   "source": [
    "import cv2\n",
    "import numpy as np\n",
    "from random import randint "
   ]
  },
  {
   "cell_type": "code",
   "execution_count": 28,
   "id": "e87fb7a1",
   "metadata": {},
   "outputs": [],
   "source": [
    "class Ball:\n",
    "    def __init__ (self, pos=(50,60), radius=10):\n",
    "        self.x = pos[0]\n",
    "        self.y = pos[1]\n",
    "        self.rad = radius\n",
    "        \n",
    "    def draw (self):\n",
    "        cv2.circle(cnv, (self.x, self.y), self.rad, (0,255,0), -1) \n",
    "    def destroy (self):\n",
    "        cv2.circle(cnv, (self.x, self.y), self.rad, (0,0,0), -1)\n",
    "    def change_coords(self, dx, dy):\n",
    "        self.x += dx\n",
    "        self.y += dy"
   ]
  },
  {
   "cell_type": "code",
   "execution_count": 36,
   "id": "efc2a279",
   "metadata": {},
   "outputs": [],
   "source": [
    "cnv = np.zeros((600,600,3), dtype=np.uint8())\n",
    "ball = []\n",
    "for sch in range(100):\n",
    "    ball.append( Ball( \n",
    "                        (randint(1,100), randint(1,100)), randint(1,100)   ) )\n",
    "    \n",
    "    \n",
    "while True:\n",
    "    \n",
    "    for i in range(100):\n",
    "        ball[i].draw()\n",
    "    \n",
    "    cv2.imshow( 'izo', cnv ) \n",
    "    for i in range(100):\n",
    "        ball[i].destroy()\n",
    "        ball[i].change_coords( randint(1,10), randint(1,10) )\n",
    "    \n",
    "    \n",
    "    key = cv2.waitKey(1)\n",
    "    if key == 27:\n",
    "        break\n",
    "cv2.destroyAllWindows()"
   ]
  },
  {
   "cell_type": "code",
   "execution_count": null,
   "id": "f66dc711",
   "metadata": {},
   "outputs": [],
   "source": []
  },
  {
   "cell_type": "code",
   "execution_count": null,
   "id": "c1f353c2",
   "metadata": {},
   "outputs": [],
   "source": []
  }
 ],
 "metadata": {
  "kernelspec": {
   "display_name": "Python 3 (ipykernel)",
   "language": "python",
   "name": "python3"
  },
  "language_info": {
   "codemirror_mode": {
    "name": "ipython",
    "version": 3
   },
   "file_extension": ".py",
   "mimetype": "text/x-python",
   "name": "python",
   "nbconvert_exporter": "python",
   "pygments_lexer": "ipython3",
   "version": "3.10.2"
  }
 },
 "nbformat": 4,
 "nbformat_minor": 5
}
