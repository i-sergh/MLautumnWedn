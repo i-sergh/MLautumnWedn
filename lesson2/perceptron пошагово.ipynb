{
 "cells": [
  {
   "cell_type": "code",
   "execution_count": 11,
   "id": "acbe0e21",
   "metadata": {},
   "outputs": [],
   "source": [
    "# образец X\n",
    "\n",
    "X = [0.1, 0.3, 0.5 ] # 3 свойства \n",
    "# относится к классу 1 \n",
    "y = 1 \n",
    "\n",
    "# Веса сгенерированы случайно по количеству свойств\n",
    "w = [ 0.2, -0.7, 0.1 ]\n",
    "\n"
   ]
  },
  {
   "cell_type": "code",
   "execution_count": 4,
   "id": "b8ff78a7",
   "metadata": {},
   "outputs": [],
   "source": [
    "def net_input(X, w):\n",
    "    dot = 0\n",
    "    for i in range(3):\n",
    "        dot += X[i] * w[i]\n",
    "    return dot"
   ]
  },
  {
   "cell_type": "code",
   "execution_count": 5,
   "id": "4255adf9",
   "metadata": {},
   "outputs": [
    {
     "data": {
      "text/plain": [
       "-0.14"
      ]
     },
     "execution_count": 5,
     "metadata": {},
     "output_type": "execute_result"
    }
   ],
   "source": [
    "net_input(X, w) "
   ]
  },
  {
   "cell_type": "code",
   "execution_count": 6,
   "id": "df05193c",
   "metadata": {},
   "outputs": [],
   "source": [
    "def predict(X, w):\n",
    "    if net_input(X, w) >= 0:\n",
    "        return 1\n",
    "    else:\n",
    "        return -1 "
   ]
  },
  {
   "cell_type": "code",
   "execution_count": 95,
   "id": "25064ea1",
   "metadata": {},
   "outputs": [
    {
     "data": {
      "text/plain": [
       "1"
      ]
     },
     "execution_count": 95,
     "metadata": {},
     "output_type": "execute_result"
    }
   ],
   "source": [
    "predict(X, w)"
   ]
  },
  {
   "cell_type": "code",
   "execution_count": 96,
   "id": "496a71e2",
   "metadata": {},
   "outputs": [],
   "source": [
    "eta = 0.1\n",
    "update = eta*(y - predict(X, w))"
   ]
  },
  {
   "cell_type": "code",
   "execution_count": 97,
   "id": "1d74904e",
   "metadata": {},
   "outputs": [],
   "source": [
    "for i in range(3):\n",
    "    w[i] += update * X[i]"
   ]
  },
  {
   "cell_type": "code",
   "execution_count": 98,
   "id": "4805ea7d",
   "metadata": {},
   "outputs": [
    {
     "data": {
      "text/plain": [
       "[0.25600000000000006, -0.5319999999999998, 0.3800000000000001]"
      ]
     },
     "execution_count": 98,
     "metadata": {},
     "output_type": "execute_result"
    }
   ],
   "source": [
    "w"
   ]
  },
  {
   "cell_type": "code",
   "execution_count": 90,
   "id": "e9799b18",
   "metadata": {},
   "outputs": [
    {
     "data": {
      "text/plain": [
       "0.3333333333333333"
      ]
     },
     "execution_count": 90,
     "metadata": {},
     "output_type": "execute_result"
    }
   ],
   "source": [
    "1/3"
   ]
  },
  {
   "cell_type": "code",
   "execution_count": null,
   "id": "509b4f99",
   "metadata": {},
   "outputs": [],
   "source": []
  }
 ],
 "metadata": {
  "kernelspec": {
   "display_name": "Python 3 (ipykernel)",
   "language": "python",
   "name": "python3"
  },
  "language_info": {
   "codemirror_mode": {
    "name": "ipython",
    "version": 3
   },
   "file_extension": ".py",
   "mimetype": "text/x-python",
   "name": "python",
   "nbconvert_exporter": "python",
   "pygments_lexer": "ipython3",
   "version": "3.10.2"
  }
 },
 "nbformat": 4,
 "nbformat_minor": 5
}
