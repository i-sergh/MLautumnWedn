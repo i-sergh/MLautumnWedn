{
 "cells": [
  {
   "cell_type": "code",
   "execution_count": 4,
   "id": "4685910a",
   "metadata": {},
   "outputs": [],
   "source": [
    "import numpy as np\n",
    "from random import randint\n",
    "\n",
    "import cv2\n",
    "\n",
    "from matplotlib import pyplot as plt"
   ]
  },
  {
   "cell_type": "code",
   "execution_count": 3,
   "id": "4266d5fe",
   "metadata": {},
   "outputs": [],
   "source": [
    "class Perceptron:\n",
    "    def __init__ (self, eta, n_iter, random_state):\n",
    "        self.eta = eta\n",
    "        self.n_iter = n_iter\n",
    "        self.random_state = random_state\n",
    "    \n",
    "    def fit(self, X, y):\n",
    "        rgen = np.random.RandomState(self.random_state)\n",
    "        self.w = rgen.normal(loc=0.0, scale=0.01, size=1 + X.shape[1] )\n",
    "        \n",
    "        for _ in range(self.n_iter):\n",
    "            \n",
    "            for xi, target in zip(X, y):\n",
    "                update = self.eta * ( target - self.predict(xi) )\n",
    "                self.w[1:] += update * xi\n",
    "                self.w[0] += update \n",
    "        \n",
    "    def net_input(self, X):\n",
    "        return np.dot(X, self.w[1:]) + self.w[0]\n",
    "    \n",
    "    def predict(self, X):\n",
    "        return np.where(self.net_input(X) >= 0.0, 1, -1 )"
   ]
  },
  {
   "cell_type": "code",
   "execution_count": 59,
   "id": "0b779ce7",
   "metadata": {},
   "outputs": [],
   "source": [
    "\n",
    "ppn = Perceptron(0.01, 50, 1)"
   ]
  },
  {
   "cell_type": "code",
   "execution_count": 60,
   "id": "083beb91",
   "metadata": {},
   "outputs": [],
   "source": [
    "X = np.array( [[1,2],[2, 2]] )\n",
    "y = np.array( [1,-1] )\n",
    "ppn.fit( X , y)"
   ]
  },
  {
   "cell_type": "code",
   "execution_count": 61,
   "id": "06f652e6",
   "metadata": {},
   "outputs": [
    {
     "data": {
      "text/plain": [
       "array([ 1, -1])"
      ]
     },
     "execution_count": 61,
     "metadata": {},
     "output_type": "execute_result"
    }
   ],
   "source": [
    "ppn.predict( np.array( [[1,2],[2, 2]] ) )"
   ]
  },
  {
   "cell_type": "code",
   "execution_count": 183,
   "id": "872fd99c",
   "metadata": {},
   "outputs": [],
   "source": [
    "ppn2 = Perceptron(0.01,100, 1)"
   ]
  },
  {
   "cell_type": "code",
   "execution_count": 184,
   "id": "43c98f5c",
   "metadata": {},
   "outputs": [],
   "source": [
    "rgen = np.random.RandomState(2)\n",
    "#X1 = rgen.randint(low=5, high=10, size=(12,2) )\n",
    "#X2 = rgen.randint(low=0, high=5, size=(14,2) )\n",
    "X = rgen.randint(low=0, high=10, size=(20,2))\n",
    "#X\n",
    "y = np.where( 10- X.T[0] > X.T[1], 1, -1)\n",
    "\n",
    "x1_gr = X[y==-1]\n",
    "\n",
    "x2_gr = X[y==1]  \n",
    "\n"
   ]
  },
  {
   "cell_type": "code",
   "execution_count": 185,
   "id": "cc33aa49",
   "metadata": {},
   "outputs": [
    {
     "data": {
      "text/plain": [
       "<matplotlib.collections.PathCollection at 0x1c61151ace0>"
      ]
     },
     "execution_count": 185,
     "metadata": {},
     "output_type": "execute_result"
    },
    {
     "data": {
      "image/png": "[encoded data removed]",
      "text/plain": [
       "<Figure size 432x288 with 1 Axes>"
      ]
     },
     "metadata": {
      "needs_background": "light"
     },
     "output_type": "display_data"
    }
   ],
   "source": [
    "plt.scatter(x1_gr[:,0], x1_gr[:,1], color='blue', marker='o')\n",
    "\n",
    "plt.scatter(x2_gr[:,0], x2_gr[:,1], color='red', marker='+')"
   ]
  },
  {
   "cell_type": "code",
   "execution_count": 186,
   "id": "9eb922da",
   "metadata": {},
   "outputs": [],
   "source": [
    "ppn2.fit(X, y)"
   ]
  },
  {
   "cell_type": "code",
   "execution_count": 187,
   "id": "e608c6f7",
   "metadata": {},
   "outputs": [
    {
     "data": {
      "text/plain": [
       "array(1)"
      ]
     },
     "execution_count": 187,
     "metadata": {},
     "output_type": "execute_result"
    }
   ],
   "source": [
    "ppn2.predict([2,6])\n"
   ]
  },
  {
   "cell_type": "code",
   "execution_count": 188,
   "id": "b38df80d",
   "metadata": {},
   "outputs": [
    {
     "data": {
      "text/plain": [
       "<matplotlib.collections.PathCollection at 0x1c6108411e0>"
      ]
     },
     "execution_count": 188,
     "metadata": {},
     "output_type": "execute_result"
    },
    {
     "data": {
      "image/png": "[encoded data removed]",
      "text/plain": [
       "<Figure size 432x288 with 1 Axes>"
      ]
     },
     "metadata": {
      "needs_background": "light"
     },
     "output_type": "display_data"
    }
   ],
   "source": [
    "gap1 = np.arange( 0, 10, 0.1)\n",
    "gap2 = np.arange( 0, 10, 0.1)\n",
    "\n",
    "xx1, xx2 = np.meshgrid(gap1, gap2 )\n",
    "\n",
    "in_arr = np.array(  [xx1.ravel(), xx2.ravel()]).T\n",
    "y_ = ppn2.predict( in_arr )\n",
    "y_ = y_.reshape(xx1.shape)\n",
    "plt.contourf( xx1, xx2, y_, alpha=0.3 )\n",
    "\n",
    "plt.scatter(x1_gr[:,0], x1_gr[:,1], color='blue', marker='o')\n",
    "\n",
    "plt.scatter(x2_gr[:,0], x2_gr[:,1], color='red', marker='+')"
   ]
  },
  {
   "cell_type": "code",
   "execution_count": 138,
   "id": "5581e846",
   "metadata": {},
   "outputs": [
    {
     "data": {
      "text/plain": [
       "array([ 1,  1,  1, ..., -1, -1, -1])"
      ]
     },
     "execution_count": 138,
     "metadata": {},
     "output_type": "execute_result"
    }
   ],
   "source": [
    "y_"
   ]
  },
  {
   "cell_type": "markdown",
   "id": "1462e526",
   "metadata": {},
   "source": [
    "## Получение фото нашего цвета"
   ]
  },
  {
   "cell_type": "code",
   "execution_count": 28,
   "id": "7bec2cce",
   "metadata": {},
   "outputs": [],
   "source": [
    "import cv2"
   ]
  },
  {
   "cell_type": "code",
   "execution_count": 14,
   "id": "0fb85f31",
   "metadata": {},
   "outputs": [],
   "source": [
    "cap = cv2.VideoCapture(0)"
   ]
  },
  {
   "cell_type": "code",
   "execution_count": 18,
   "id": "588477c1",
   "metadata": {},
   "outputs": [],
   "source": [
    "tr, img = cap.read()\n",
    "cv2.imshow('', img)\n",
    "cv2.waitKey(0)\n",
    "cv2.destroyAllWindows()"
   ]
  },
  {
   "cell_type": "code",
   "execution_count": 19,
   "id": "cdb8e945",
   "metadata": {},
   "outputs": [],
   "source": [
    "cap.release()"
   ]
  },
  {
   "cell_type": "code",
   "execution_count": 22,
   "id": "2f294f82",
   "metadata": {},
   "outputs": [],
   "source": [
    "img_hsv = cv2.cvtColor( img, cv2.COLOR_BGR2HSV )"
   ]
  },
  {
   "cell_type": "code",
   "execution_count": 26,
   "id": "2ee20459",
   "metadata": {},
   "outputs": [],
   "source": [
    "low = (0, 150, 150)\n",
    "high = (15, 255, 255)\n",
    "\n",
    "img_y = cv2.inRange(img_hsv, low, high)"
   ]
  },
  {
   "cell_type": "code",
   "execution_count": 29,
   "id": "1485dd23",
   "metadata": {},
   "outputs": [],
   "source": [
    "cv2.imshow('', img)\n",
    "cv2.imshow('mask', img_y)\n",
    "cv2.waitKey(0)\n",
    "cv2.destroyAllWindows()"
   ]
  },
  {
   "cell_type": "code",
   "execution_count": 46,
   "id": "64028b16",
   "metadata": {},
   "outputs": [
    {
     "data": {
      "text/plain": [
       "array([100,  95,  92, ...,  57,  54,  54], dtype=uint8)"
      ]
     },
     "execution_count": 46,
     "metadata": {},
     "output_type": "execute_result"
    }
   ],
   "source": [
    "#X = np.ravel(img[:,:,0])\n",
    "#X"
   ]
  },
  {
   "cell_type": "code",
   "execution_count": 42,
   "id": "5cf540db",
   "metadata": {},
   "outputs": [
    {
     "data": {
      "text/plain": [
       "array([-1, -1, -1, ..., -1, -1, -1])"
      ]
     },
     "execution_count": 42,
     "metadata": {},
     "output_type": "execute_result"
    }
   ],
   "source": [
    "y = np.ravel(img_y)\n",
    "y = np.where(y>0, 1, -1 )\n",
    "y"
   ]
  },
  {
   "cell_type": "code",
   "execution_count": 55,
   "id": "e1aab0e9",
   "metadata": {},
   "outputs": [
    {
     "data": {
      "text/plain": [
       "array([[100., 124., 133.],\n",
       "       [ 95., 120., 129.],\n",
       "       [ 92., 121., 130.],\n",
       "       ...,\n",
       "       [ 57.,  79.,  65.],\n",
       "       [ 54.,  78.,  61.],\n",
       "       [ 54.,  79.,  59.]])"
      ]
     },
     "execution_count": 55,
     "metadata": {},
     "output_type": "execute_result"
    }
   ],
   "source": [
    "X_in = np.zeros((y.shape[0], 3)).T \n",
    "X_in[0] = np.ravel(img[:,:,0])\n",
    "X_in[1] = np.ravel(img[:,:,1])\n",
    "X_in[2] = np.ravel(img[:,:,2])\n",
    "X_in = X_in.T\n",
    "X_in"
   ]
  },
  {
   "cell_type": "code",
   "execution_count": 56,
   "id": "a091c427",
   "metadata": {},
   "outputs": [],
   "source": [
    "ppn = Perceptron(0.1, 50, 1)"
   ]
  },
  {
   "cell_type": "code",
   "execution_count": 57,
   "id": "c094518c",
   "metadata": {},
   "outputs": [],
   "source": [
    "ppn.fit(X_in, y)"
   ]
  },
  {
   "cell_type": "code",
   "execution_count": 58,
   "id": "6cc24c92",
   "metadata": {},
   "outputs": [],
   "source": [
    "y_ = ppn.predict(img)"
   ]
  },
  {
   "cell_type": "code",
   "execution_count": 68,
   "id": "5f76c061",
   "metadata": {},
   "outputs": [],
   "source": [
    "y_ = np.reshape(y_,  (img.shape[0], img.shape[1]) )\n",
    "y_ = np.uint8(y_)\n",
    "cv2.imshow('', y_)\n",
    "cv2.waitKey(0)\n",
    "cv2.destroyAllWindows()"
   ]
  },
  {
   "cell_type": "code",
   "execution_count": 69,
   "id": "08b57893",
   "metadata": {},
   "outputs": [],
   "source": [
    "def prediction(img):\n",
    "    y_ = ppn.predict(img)\n",
    "    y_ = np.reshape(y_,  (img.shape[0], img.shape[1]) )\n",
    "    y_ = np.uint8(y_)\n",
    "    return y_"
   ]
  },
  {
   "cell_type": "code",
   "execution_count": 72,
   "id": "0c6dd13a",
   "metadata": {},
   "outputs": [],
   "source": [
    "cap = cv2.VideoCapture(0)\n",
    "\n",
    "while True:\n",
    "    tr, frame = cap.read()\n",
    "    \n",
    "    ###\n",
    "    frame_hsv = cv2.cvtColor(frame, cv2.COLOR_BGR2HSV)\n",
    "    low = (0, 150, 150)\n",
    "    high = (15, 255, 255)\n",
    "\n",
    "    img_mask = cv2.inRange(frame_hsv , low, high)\n",
    "    ###\n",
    "    cv2.imshow('frame', frame)\n",
    "    cv2.imshow('perceptron', prediction(frame) )\n",
    "    cv2.imshow('mask', img_mask) # не обязательно\n",
    "    key = cv2.waitKey(1)\n",
    "    \n",
    "    if key == 27:\n",
    "        break\n",
    "cv2.destroyAllWindows()"
   ]
  },
  {
   "cell_type": "code",
   "execution_count": 74,
   "id": "a398d7ea",
   "metadata": {},
   "outputs": [
    {
     "data": {
      "text/plain": [
       "array([-714.58375655, -109.20611756,  -53.20528172,   38.58927031])"
      ]
     },
     "execution_count": 74,
     "metadata": {},
     "output_type": "execute_result"
    }
   ],
   "source": [
    "ppn.w"
   ]
  },
  {
   "cell_type": "code",
   "execution_count": null,
   "id": "33205de9",
   "metadata": {},
   "outputs": [],
   "source": []
  }
 ],
 "metadata": {
  "kernelspec": {
   "display_name": "Python 3 (ipykernel)",
   "language": "python",
   "name": "python3"
  },
  "language_info": {
   "codemirror_mode": {
    "name": "ipython",
    "version": 3
   },
   "file_extension": ".py",
   "mimetype": "text/x-python",
   "name": "python",
   "nbconvert_exporter": "python",
   "pygments_lexer": "ipython3",
   "version": "3.10.2"
  }
 },
 "nbformat": 4,
 "nbformat_minor": 5
}
